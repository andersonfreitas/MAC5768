{
 "metadata": {
  "name": "",
  "signature": "sha256:22a8603585c465075f8cc424ff4ded2b2e915092b6eb80a554c229e36a4f374d"
 },
 "nbformat": 3,
 "nbformat_minor": 0,
 "worksheets": [
  {
   "cells": [
    {
     "cell_type": "markdown",
     "metadata": {},
     "source": [
      "# Lista de exerc\u00edcios 4 - Aulas 5 e 6\n",
      "\n",
      "## Convolu\u00e7\u00e3o $\\otimes$\n",
      "\n",
      "$$\n",
      "U = V \\otimes a\n",
      "$$\n",
      "\n",
      "dada por:\n",
      "\n",
      "$$\n",
      "{ U }_{ k }=\\sum _{ \\xi  }{ \\left( \\alpha_{\\xi} \\cdot V_{k-\\xi} \\right) }=\\sum_{\\xi}\\left( V_{\\xi} \\cdot \\alpha_{k-\\xi} \\right)\n",
      "$$\n",
      "\n",
      "$\\xi$ representa transladar os elementos no vetor entre os elementos de $\\left\\{ a_{-2}, a_{-1},a_{0},a_{1},a_{2} \\right\\}$ e $\\left\\{V_{k}\\right\\}$"
     ]
    },
    {
     "cell_type": "markdown",
     "metadata": {},
     "source": [
      "## Exerc\u00edcios"
     ]
    },
    {
     "cell_type": "markdown",
     "metadata": {},
     "source": [
      "Problema 1: Dada uma imagem e uma matriz de um kernel, implemente \n",
      "o filtro convolucional usando dois duplos loops."
     ]
    },
    {
     "cell_type": "code",
     "collapsed": false,
     "input": [
      "from scipy import misc\n",
      "\n",
      "def conv_filter(img, ker):\n",
      "    iH, iW = shape(img)\n",
      "    kH, kW = shape(ker)\n",
      "    \n",
      "    ret = zeros(shape(img))\n",
      "    \n",
      "    def local_ma(i, j):\n",
      "        ma = 0\n",
      "        for x in range(kH):\n",
      "            for y in range(kW):\n",
      "                xx = x + i - floor(kH/2)\n",
      "                yy = y + j - floor(kW/2)\n",
      "                if ker[x, y] > 0 and xx < iH and yy < iW: \n",
      "                    ma += img[xx][yy]\n",
      "        return ma / kW*kW\n",
      "    \n",
      "    for h in range(iH):\n",
      "        for w in range(iW):\n",
      "            ret[h][w] = local_ma(h, w)\n",
      "    return ret\n",
      "\n",
      "pylab.rcParams['figure.figsize'] = (8.0, 15.0)\n",
      "\n",
      "ker = ones((3, 3))\n",
      "# ker = eye(5)\n",
      "\n",
      "gray()\n",
      "img = imread('hirata/images256/lena.png')\n",
      "img = misc.imresize(img, (50, 50))\n",
      "# img = random.random((10,10))\n",
      "\n",
      "a = img\n",
      "b = conv_filter(img, ker)\n",
      "subplot(2,2,1); imshow(a, interpolation=\"nearest\")\n",
      "subplot(2,2,2); imshow(b, interpolation=\"nearest\");"
     ],
     "language": "python",
     "metadata": {},
     "outputs": [
      {
       "metadata": {},
       "output_type": "display_data",
       "png": "[encoded data removed]",
       "text": [
        "<matplotlib.figure.Figure at 0x10aca96d0>"
       ]
      }
     ],
     "prompt_number": 2
    },
    {
     "cell_type": "code",
     "collapsed": false,
     "input": [
      "img = random.random((10,10))\n",
      "b = conv_filter(img, ones((3,3)))\n",
      "subplot(2,2,1); imshow(img, interpolation=\"nearest\")\n",
      "subplot(2,2,2); imshow(b, interpolation=\"nearest\");"
     ],
     "language": "python",
     "metadata": {},
     "outputs": [
      {
       "metadata": {},
       "output_type": "display_data",
       "png": "[encoded data removed]",
       "text": [
        "<matplotlib.figure.Figure at 0x10b8ee650>"
       ]
      }
     ],
     "prompt_number": 10
    },
    {
     "cell_type": "markdown",
     "metadata": {},
     "source": [
      "Problema 2: Dada uma imagem e uma matriz de um kernel, implemente \n",
      "o filtro convolucional usando apenas um duplo loop (usando opera\u00e7\u00f5es \n",
      "de matrizes)."
     ]
    },
    {
     "cell_type": "code",
     "collapsed": false,
     "input": [
      "def conv2(img, ker):\n",
      "    s = shape(img)\n",
      "    iH, iW = shape(img)\n",
      "    kH, kW = shape(ker)\n",
      "    \n",
      "    img = img.flatten()\n",
      "    \n",
      "    def local_ma(i, j):\n",
      "        return 1\n",
      "    \n",
      "    for i in range(len(img)):\n",
      "        img[i + iW]\n",
      "\n",
      "    return ret.reshape(s)"
     ],
     "language": "python",
     "metadata": {},
     "outputs": []
    },
    {
     "cell_type": "markdown",
     "metadata": {},
     "source": [
      "Problema 3: Escolha um kernel 3x3 e verifique o tempo que cada uma\n",
      "das solu\u00e7\u00f5es leva para aplicar o kernel. Teste para 5 imagens diferentes."
     ]
    },
    {
     "cell_type": "markdown",
     "metadata": {},
     "source": [
      "Problema 4: Compare sua melhor solu\u00e7\u00e3o com a solu\u00e7\u00e3o da toolbox ia636 (iaconv)."
     ]
    },
    {
     "cell_type": "markdown",
     "metadata": {},
     "source": [
      "Problema 5: Nesta aula vimos v\u00e1rios filtros convolucionais como a m\u00e9dia, Sobel,\n",
      "Prewitt, Roberts. Escolha 10 imagens do nosso banco e aplique cada um desses \n",
      "filtros nelas (n\u00e3o complique, defina um kernel para cada filtro e aplique\n",
      "a fun\u00e7\u00e3o iaconv)."
     ]
    },
    {
     "cell_type": "code",
     "collapsed": false,
     "input": [
      "x = [1,2,3,1,2,3,1,2,3]\n",
      "x[2::3]"
     ],
     "language": "python",
     "metadata": {},
     "outputs": [
      {
       "metadata": {},
       "output_type": "pyout",
       "prompt_number": 47,
       "text": [
        "[3, 3, 3]"
       ]
      }
     ],
     "prompt_number": 47
    },
    {
     "cell_type": "code",
     "collapsed": false,
     "input": [],
     "language": "python",
     "metadata": {},
     "outputs": []
    }
   ],
   "metadata": {}
  }
 ]
}